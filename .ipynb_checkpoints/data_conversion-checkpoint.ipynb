{
 "cells": [
  {
   "cell_type": "code",
   "execution_count": 5,
   "id": "bc5ff7e3",
   "metadata": {},
   "outputs": [
    {
     "name": "stderr",
     "output_type": "stream",
     "text": [
      "IOPub data rate exceeded.\n",
      "The notebook server will temporarily stop sending output\n",
      "to the client in order to avoid crashing it.\n",
      "To change this limit, set the config variable\n",
      "`--NotebookApp.iopub_data_rate_limit`.\n",
      "\n",
      "Current values:\n",
      "NotebookApp.iopub_data_rate_limit=1000000.0 (bytes/sec)\n",
      "NotebookApp.rate_limit_window=3.0 (secs)\n",
      "\n"
     ]
    }
   ],
   "source": [
    "import json\n",
    "\n",
    "with open('data/result.json','r', encoding='utf-8') as f:\n",
    "    d = json.load(f)\n",
    "    print(d)"
   ]
  },
  {
   "cell_type": "code",
   "execution_count": 14,
   "id": "bc5eaf8a",
   "metadata": {},
   "outputs": [],
   "source": [
    "import pandas as pd\n",
    "import numpy as np"
   ]
  },
  {
   "cell_type": "code",
   "execution_count": 7,
   "id": "8d794087",
   "metadata": {},
   "outputs": [],
   "source": [
    "df = pd.DataFrame.from_dict(pd.json_normalize(d['chats']['list'][0]['messages']), orient='columns')"
   ]
  },
  {
   "cell_type": "code",
   "execution_count": 8,
   "id": "9e7f0cc1",
   "metadata": {
    "scrolled": false
   },
   "outputs": [],
   "source": [
    "df = df[['from', 'text', 'forwarded_from']]"
   ]
  },
  {
   "cell_type": "code",
   "execution_count": 9,
   "id": "da9a483a",
   "metadata": {},
   "outputs": [],
   "source": [
    "df = df[df.forwarded_from.isna()]"
   ]
  },
  {
   "cell_type": "code",
   "execution_count": 10,
   "id": "14d3836f",
   "metadata": {},
   "outputs": [],
   "source": [
    "df.to_csv('data/messages.csv')"
   ]
  },
  {
   "cell_type": "code",
   "execution_count": 11,
   "id": "eac6d6ae",
   "metadata": {},
   "outputs": [],
   "source": [
    "df['length'] = df['text'].apply(len)"
   ]
  },
  {
   "cell_type": "code",
   "execution_count": 12,
   "id": "56b4f119",
   "metadata": {},
   "outputs": [],
   "source": [
    "df = df[df['length'] != 0]"
   ]
  },
  {
   "cell_type": "code",
   "execution_count": 13,
   "id": "2ab13650",
   "metadata": {},
   "outputs": [],
   "source": [
    "df = df[df['length'] < 280]"
   ]
  },
  {
   "cell_type": "code",
   "execution_count": 17,
   "id": "0c22aec1",
   "metadata": {},
   "outputs": [],
   "source": [
    "df = df[~df['from'].isin(['Imitation Bot', 'ДедулЯ', 'Лука'])]"
   ]
  },
  {
   "cell_type": "code",
   "execution_count": 20,
   "id": "703475c2",
   "metadata": {},
   "outputs": [],
   "source": [
    "df = df[df['from'].notna()]"
   ]
  },
  {
   "cell_type": "code",
   "execution_count": 22,
   "id": "8fdf75a6",
   "metadata": {},
   "outputs": [],
   "source": [
    "df.to_csv('data/parsed.csv')"
   ]
  }
 ],
 "metadata": {
  "kernelspec": {
   "display_name": "Python 3 (ipykernel)",
   "language": "python",
   "name": "python3"
  },
  "language_info": {
   "codemirror_mode": {
    "name": "ipython",
    "version": 3
   },
   "file_extension": ".py",
   "mimetype": "text/x-python",
   "name": "python",
   "nbconvert_exporter": "python",
   "pygments_lexer": "ipython3",
   "version": "3.9.7"
  }
 },
 "nbformat": 4,
 "nbformat_minor": 5
}
